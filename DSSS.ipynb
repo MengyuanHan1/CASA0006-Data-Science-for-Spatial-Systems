{
 "cells": [
  {
   "cell_type": "markdown",
   "id": "d343f239-591f-4eb9-8754-6e063ebbd676",
   "metadata": {},
   "source": [
    "# Data Science for Spatial Systems"
   ]
  },
  {
   "cell_type": "markdown",
   "id": "0f6e490e-ac6e-448c-b430-05e378e17eb1",
   "metadata": {},
   "source": [
    "### 芝加哥出租车用时和天气的关系 "
   ]
  },
  {
   "cell_type": "markdown",
   "id": "4d138145-790c-487b-88f1-b93628544d9c",
   "metadata": {},
   "source": [
    "### 数据导入"
   ]
  },
  {
   "cell_type": "code",
   "execution_count": null,
   "id": "57856002-8b76-4b0b-b9b9-3adc6800e19e",
   "metadata": {},
   "outputs": [],
   "source": []
  },
  {
   "cell_type": "markdown",
   "id": "556163fa-c00b-4c72-8dfa-db10e712f636",
   "metadata": {},
   "source": [
    "### 数据清洗和操作"
   ]
  },
  {
   "cell_type": "markdown",
   "id": "11d62d21-93fa-4c3b-ae99-0f60c97d7fb3",
   "metadata": {},
   "source": [
    "记得开局设置每列的数据格式"
   ]
  },
  {
   "cell_type": "markdown",
   "id": "8c306c6e-a459-48d7-bf08-19e7eae9c42b",
   "metadata": {},
   "source": [
    "##### 1. 数据的列中带有空格 2. 处理时间戳，更改为datetime64[ms]格式 3. taxi数据和天气数据进行连接 4. 需要的列作为一个新的数据集（先不要，因为下面要做EDA）：trip start timestamp, trip seconds, trip miles, "
   ]
  },
  {
   "cell_type": "code",
   "execution_count": null,
   "id": "9614c80a-12a0-4cf0-854d-a568b1610eb6",
   "metadata": {},
   "outputs": [],
   "source": []
  },
  {
   "cell_type": "markdown",
   "id": "9b9e91d7-6506-4da8-9b15-bbf19ab2a998",
   "metadata": {},
   "source": [
    "### EDA+筛选数据"
   ]
  },
  {
   "cell_type": "markdown",
   "id": "e49d6d21-7eb3-4a62-bed1-4c526bf4e5e8",
   "metadata": {},
   "source": [
    "清除无意义的值和异常值，包括：\n",
    "空值\n",
    "trip miles>0是必须的\n",
    "trip miles超长的\n",
    "时速 > 30 miles/h的\n",
    "trip seconds超长但是miles特别小的\n",
    "pickup和dropoff centroids在芝加哥边界外的（如果有，当然也可以强行删除增加EDA丰富度）\n",
    "extras和tolls特别大的订单有几个是来自同几个taxi id，并且查看到它们的trip miles都很短，在1英里以下，且均为现金支付（现金较难追踪，可能与犯罪有关），因此有理由怀疑这是他们出于某种动机产生的虚假订单，所以删除"
   ]
  },
  {
   "cell_type": "code",
   "execution_count": null,
   "id": "3be11b84-e0fb-44c5-ba66-52d818e09cac",
   "metadata": {},
   "outputs": [],
   "source": []
  },
  {
   "cell_type": "code",
   "execution_count": null,
   "id": "fc894a95-08ce-483e-8bb7-ec209df0bd13",
   "metadata": {},
   "outputs": [],
   "source": []
  },
  {
   "cell_type": "code",
   "execution_count": null,
   "id": "eba9a559-0e13-4ed4-8926-4c8bbc85f0d2",
   "metadata": {},
   "outputs": [],
   "source": []
  },
  {
   "cell_type": "code",
   "execution_count": null,
   "id": "0ec39689-2a67-4e08-afb9-e0283a56ba10",
   "metadata": {},
   "outputs": [],
   "source": []
  },
  {
   "cell_type": "code",
   "execution_count": null,
   "id": "69226878-c377-4cbc-9235-200c510e7cae",
   "metadata": {},
   "outputs": [],
   "source": []
  },
  {
   "cell_type": "code",
   "execution_count": null,
   "id": "91944532-6c8b-49fd-9e2d-a18f1539fce4",
   "metadata": {},
   "outputs": [],
   "source": []
  },
  {
   "cell_type": "code",
   "execution_count": null,
   "id": "a2071a10-b29b-4e32-8e69-ccb33ccb5974",
   "metadata": {},
   "outputs": [],
   "source": []
  },
  {
   "cell_type": "code",
   "execution_count": null,
   "id": "f7698e4c-0c58-40b1-99b8-6bd0a8d87b56",
   "metadata": {},
   "outputs": [],
   "source": []
  },
  {
   "cell_type": "code",
   "execution_count": null,
   "id": "2608d9ab-4a07-419e-a18c-07111174ed2d",
   "metadata": {},
   "outputs": [],
   "source": []
  },
  {
   "cell_type": "code",
   "execution_count": null,
   "id": "d26e4538-eade-43d7-8ad0-577d758aed16",
   "metadata": {},
   "outputs": [],
   "source": []
  },
  {
   "cell_type": "code",
   "execution_count": null,
   "id": "100ec805-2ed5-440b-a810-71a9b849f3d9",
   "metadata": {},
   "outputs": [],
   "source": []
  },
  {
   "cell_type": "code",
   "execution_count": null,
   "id": "70060772-b4b7-4d61-9b2e-8788322d4132",
   "metadata": {},
   "outputs": [],
   "source": []
  },
  {
   "cell_type": "code",
   "execution_count": null,
   "id": "6251610f-c5f5-48e0-8c3d-b3fc3bd58b02",
   "metadata": {},
   "outputs": [],
   "source": []
  },
  {
   "cell_type": "code",
   "execution_count": null,
   "id": "22a5a0ec-b616-42b3-b469-1a760b160c83",
   "metadata": {},
   "outputs": [],
   "source": []
  },
  {
   "cell_type": "code",
   "execution_count": null,
   "id": "6fd74870-9915-4dc8-958a-e627a937ab45",
   "metadata": {},
   "outputs": [],
   "source": []
  },
  {
   "cell_type": "code",
   "execution_count": null,
   "id": "fe15b8a7-5e7f-4328-8d4b-145858477b20",
   "metadata": {},
   "outputs": [],
   "source": []
  },
  {
   "cell_type": "code",
   "execution_count": null,
   "id": "89043b4c-eff1-4436-95de-7fa43a84490d",
   "metadata": {},
   "outputs": [],
   "source": []
  },
  {
   "cell_type": "code",
   "execution_count": null,
   "id": "08942ac6-e5d3-4a29-bff7-482a3eb6f8fb",
   "metadata": {},
   "outputs": [],
   "source": []
  },
  {
   "cell_type": "code",
   "execution_count": null,
   "id": "eed437e0-cd47-4147-bec0-afbcbcbe98b1",
   "metadata": {},
   "outputs": [],
   "source": []
  },
  {
   "cell_type": "code",
   "execution_count": null,
   "id": "bb83c38b-2a4c-4396-9193-9c52f0425e97",
   "metadata": {},
   "outputs": [],
   "source": []
  },
  {
   "cell_type": "code",
   "execution_count": null,
   "id": "34c5f819-ca31-471a-84ed-1c7cbee2f43c",
   "metadata": {},
   "outputs": [],
   "source": []
  },
  {
   "cell_type": "code",
   "execution_count": null,
   "id": "4f3ace67-8ad8-42a0-97b8-4ef100f04c67",
   "metadata": {},
   "outputs": [],
   "source": []
  },
  {
   "cell_type": "code",
   "execution_count": null,
   "id": "29ea8b51-2a7c-4142-8bec-00ff503bd79c",
   "metadata": {},
   "outputs": [],
   "source": []
  },
  {
   "cell_type": "code",
   "execution_count": null,
   "id": "b8b502f3-76dc-4c67-961e-f28f2312e4af",
   "metadata": {},
   "outputs": [],
   "source": []
  },
  {
   "cell_type": "code",
   "execution_count": null,
   "id": "8942d690-7a78-4e98-ba6b-8f9fb914400b",
   "metadata": {},
   "outputs": [],
   "source": []
  },
  {
   "cell_type": "code",
   "execution_count": null,
   "id": "fb36ae9d-e2ad-43d0-9ff2-e58fe966e880",
   "metadata": {},
   "outputs": [],
   "source": []
  }
 ],
 "metadata": {
  "kernelspec": {
   "display_name": "Python 3 (ipykernel)",
   "language": "python",
   "name": "python3"
  },
  "language_info": {
   "codemirror_mode": {
    "name": "ipython",
    "version": 3
   },
   "file_extension": ".py",
   "mimetype": "text/x-python",
   "name": "python",
   "nbconvert_exporter": "python",
   "pygments_lexer": "ipython3",
   "version": "3.11.5"
  }
 },
 "nbformat": 4,
 "nbformat_minor": 5
}
